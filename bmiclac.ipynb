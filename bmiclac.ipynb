{
 "cells": [
  {
   "cell_type": "code",
   "execution_count": 2,
   "metadata": {},
   "outputs": [
    {
     "name": "stdout",
     "output_type": "stream",
     "text": [
      "Hello Edwin. Welcome to our BMI Calculation Sytem\n"
     ]
    }
   ],
   "source": [
    "name = input(\"What is your name\")\n",
    "print(f\"Hello {name}. Welcome to our BMI Calculation Sytem\")"
   ]
  },
  {
   "cell_type": "code",
   "execution_count": 3,
   "metadata": {},
   "outputs": [
    {
     "name": "stdout",
     "output_type": "stream",
     "text": [
      "Provide us with the infomation below: \n",
      "=============BMI Results=============\n",
      "Your BMI is: 24.44\n",
      "Normal\n"
     ]
    }
   ],
   "source": [
    "print(\"Provide us with the infomation below: \")\n",
    "weight = float(input(\"Enter your weight: Kgs\"))\n",
    "height = float(input(\"Enter your hieght: Metres\"))\n",
    "\n",
    "BMI = round(weight/(height * height), 2)\n",
    "\n",
    "print(\"=============BMI Results=============\")\n",
    "print(f\"Your BMI is: {BMI}\")\n",
    "\n",
    "if BMI > 25:\n",
    "    print(\"overweight\")\n",
    "elif BMI < 18:\n",
    "    print(\"Underweight\")\n",
    "else:\n",
    "    print(\"Normal\")"
   ]
  },
  {
   "cell_type": "code",
   "execution_count": null,
   "metadata": {},
   "outputs": [],
   "source": []
  }
 ],
 "metadata": {
  "kernelspec": {
   "display_name": "base",
   "language": "python",
   "name": "python3"
  },
  "language_info": {
   "codemirror_mode": {
    "name": "ipython",
    "version": 3
   },
   "file_extension": ".py",
   "mimetype": "text/x-python",
   "name": "python",
   "nbconvert_exporter": "python",
   "pygments_lexer": "ipython3",
   "version": "3.11.7"
  }
 },
 "nbformat": 4,
 "nbformat_minor": 2
}
